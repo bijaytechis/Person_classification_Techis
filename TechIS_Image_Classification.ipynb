{
  "nbformat": 4,
  "nbformat_minor": 0,
  "metadata": {
    "colab": {
      "name": "TechIS Image Classification",
      "provenance": [],
      "mount_file_id": "1S5NZR6rayJ4l1rhVbUQILzo5gdjwxBw2",
      "authorship_tag": "ABX9TyMDnI13ikVwyU34r8j2qDAE",
      "include_colab_link": true
    },
    "kernelspec": {
      "name": "python3",
      "display_name": "Python 3"
    },
    "accelerator": "GPU"
  },
  "cells": [
    {
      "cell_type": "markdown",
      "metadata": {
        "id": "view-in-github",
        "colab_type": "text"
      },
      "source": [
        "<a href=\"https://colab.research.google.com/github/bijaytechis/Person_classification_Techis/blob/main/TechIS_Image_Classification.ipynb\" target=\"_parent\"><img src=\"https://colab.research.google.com/assets/colab-badge.svg\" alt=\"Open In Colab\"/></a>"
      ]
    },
    {
      "cell_type": "code",
      "metadata": {
        "id": "aW3T7her7b4R",
        "colab": {
          "base_uri": "https://localhost:8080/"
        },
        "outputId": "63fa4b27-3079-41c7-bcce-0c410e397a17"
      },
      "source": [
        "!unzip \"/content/drive/MyDrive/Final_data-20201227T190627Z-001.zip\" -d \"/content/drive/My Drive/\""
      ],
      "execution_count": null,
      "outputs": [
        {
          "output_type": "stream",
          "text": [
            "unzip:  cannot find or open /content/drive/MyDrive/Final_data-20201227T190627Z-001.zip, /content/drive/MyDrive/Final_data-20201227T190627Z-001.zip.zip or /content/drive/MyDrive/Final_data-20201227T190627Z-001.zip.ZIP.\n"
          ],
          "name": "stdout"
        }
      ]
    },
    {
      "cell_type": "code",
      "metadata": {
        "colab": {
          "base_uri": "https://localhost:8080/"
        },
        "id": "7jrMcaGh7gcp",
        "outputId": "79b702ce-e2c8-4ade-c89b-28438b0868de"
      },
      "source": [
        "from google.colab import drive\n",
        "drive.mount('/gdrive')\n",
        "%cd /gdrive"
      ],
      "execution_count": null,
      "outputs": [
        {
          "output_type": "stream",
          "text": [
            "Mounted at /gdrive\n",
            "/gdrive\n"
          ],
          "name": "stdout"
        }
      ]
    },
    {
      "cell_type": "code",
      "metadata": {
        "id": "IxsQj5vZ7yga"
      },
      "source": [
        "import tensorflow as tf\r\n",
        "from tensorflow.keras.layers import Input, Lambda, Dense, Flatten\r\n",
        "from tensorflow.keras.models import Model\r\n",
        "from tensorflow.keras.applications.vgg16 import VGG16\r\n",
        "from tensorflow.keras.applications.vgg19 import VGG19\r\n",
        "from tensorflow.keras.preprocessing import image\r\n",
        "from tensorflow.keras.preprocessing.image import ImageDataGenerator,load_img\r\n",
        "from tensorflow.keras.models import Sequential\r\n",
        "import numpy as np\r\n",
        "from glob import glob\r\n",
        "import matplotlib.pyplot as plt"
      ],
      "execution_count": null,
      "outputs": []
    },
    {
      "cell_type": "code",
      "metadata": {
        "id": "t1ghEe_dADYy"
      },
      "source": [
        "IMAGE_SIZE = [224, 224]\r\n",
        "\r\n",
        "train_path = '/content/drive/MyDrive/Final_data/Train'\r\n",
        "valid_path = '/content/drive/MyDrive/Final_data/Test'"
      ],
      "execution_count": null,
      "outputs": []
    },
    {
      "cell_type": "code",
      "metadata": {
        "colab": {
          "base_uri": "https://localhost:8080/"
        },
        "id": "_unsGkPsANVR",
        "outputId": "29c74912-d7d4-4f4a-d71f-1d53b96ee9e7"
      },
      "source": [
        "vgg16 = VGG16(input_shape=IMAGE_SIZE + [3], weights='imagenet', include_top=False)"
      ],
      "execution_count": null,
      "outputs": [
        {
          "output_type": "stream",
          "text": [
            "Downloading data from https://storage.googleapis.com/tensorflow/keras-applications/vgg16/vgg16_weights_tf_dim_ordering_tf_kernels_notop.h5\n",
            "58892288/58889256 [==============================] - 0s 0us/step\n"
          ],
          "name": "stdout"
        }
      ]
    },
    {
      "cell_type": "code",
      "metadata": {
        "id": "rzs7ruXpARCU"
      },
      "source": [
        "for layer in vgg16.layers:\r\n",
        "    layer.trainable = False"
      ],
      "execution_count": null,
      "outputs": []
    },
    {
      "cell_type": "code",
      "metadata": {
        "colab": {
          "base_uri": "https://localhost:8080/"
        },
        "id": "oAI_OqYkAYGA",
        "outputId": "d9d77d72-9105-4752-c8ee-e00c07cd9007"
      },
      "source": [
        "\r\n",
        "# useful for getting number of output classes\r\n",
        "folders = glob( '/content/drive/MyDrive/Final_data/Train/*')\r\n",
        "folders"
      ],
      "execution_count": null,
      "outputs": [
        {
          "output_type": "execute_result",
          "data": {
            "text/plain": [
              "['/content/drive/MyDrive/Final_data/Train/Raghu',\n",
              " '/content/drive/MyDrive/Final_data/Train/Prerana',\n",
              " '/content/drive/MyDrive/Final_data/Train/Erica',\n",
              " '/content/drive/MyDrive/Final_data/Train/Krishna',\n",
              " '/content/drive/MyDrive/Final_data/Train/Jimmy',\n",
              " '/content/drive/MyDrive/Final_data/Train/Keshav',\n",
              " '/content/drive/MyDrive/Final_data/Train/Sudaarsham',\n",
              " '/content/drive/MyDrive/Final_data/Train/Suru',\n",
              " '/content/drive/MyDrive/Final_data/Train/Edwin',\n",
              " '/content/drive/MyDrive/Final_data/Train/Mansi',\n",
              " '/content/drive/MyDrive/Final_data/Train/Himansu',\n",
              " '/content/drive/MyDrive/Final_data/Train/manthan',\n",
              " '/content/drive/MyDrive/Final_data/Train/Moeto',\n",
              " '/content/drive/MyDrive/Final_data/Train/kshiteesh',\n",
              " '/content/drive/MyDrive/Final_data/Train/Varsha',\n",
              " '/content/drive/MyDrive/Final_data/Train/Anna',\n",
              " '/content/drive/MyDrive/Final_data/Train/Priya',\n",
              " '/content/drive/MyDrive/Final_data/Train/Ankit',\n",
              " '/content/drive/MyDrive/Final_data/Train/Aishwarya',\n",
              " '/content/drive/MyDrive/Final_data/Train/Sanjana',\n",
              " '/content/drive/MyDrive/Final_data/Train/Molshree',\n",
              " '/content/drive/MyDrive/Final_data/Train/Samarth',\n",
              " '/content/drive/MyDrive/Final_data/Train/Himika']"
            ]
          },
          "metadata": {
            "tags": []
          },
          "execution_count": 6
        }
      ]
    },
    {
      "cell_type": "code",
      "metadata": {
        "colab": {
          "base_uri": "https://localhost:8080/"
        },
        "id": "Ac-OnOA9AyzA",
        "outputId": "8ccb1fce-6dfb-4c13-a527-94d2e26cad94"
      },
      "source": [
        "len(folders)"
      ],
      "execution_count": null,
      "outputs": [
        {
          "output_type": "execute_result",
          "data": {
            "text/plain": [
              "23"
            ]
          },
          "metadata": {
            "tags": []
          },
          "execution_count": 7
        }
      ]
    },
    {
      "cell_type": "code",
      "metadata": {
        "id": "yf87u6DwA4r7"
      },
      "source": [
        "x = Flatten()(vgg16.output)"
      ],
      "execution_count": null,
      "outputs": []
    },
    {
      "cell_type": "code",
      "metadata": {
        "id": "yR7B45BdA8Ps"
      },
      "source": [
        "prediction = Dense(len(folders), activation='softmax')(x)\r\n",
        "\r\n",
        "# create a model object\r\n",
        "model = Model(inputs=vgg16.input, outputs=prediction)"
      ],
      "execution_count": null,
      "outputs": []
    },
    {
      "cell_type": "code",
      "metadata": {
        "colab": {
          "base_uri": "https://localhost:8080/"
        },
        "id": "ol5rUU09BB3k",
        "outputId": "1f754ec8-89bf-4140-f2ad-9c76d5c69735"
      },
      "source": [
        "model.summary()"
      ],
      "execution_count": null,
      "outputs": [
        {
          "output_type": "stream",
          "text": [
            "Model: \"model\"\n",
            "_________________________________________________________________\n",
            "Layer (type)                 Output Shape              Param #   \n",
            "=================================================================\n",
            "input_1 (InputLayer)         [(None, 224, 224, 3)]     0         \n",
            "_________________________________________________________________\n",
            "block1_conv1 (Conv2D)        (None, 224, 224, 64)      1792      \n",
            "_________________________________________________________________\n",
            "block1_conv2 (Conv2D)        (None, 224, 224, 64)      36928     \n",
            "_________________________________________________________________\n",
            "block1_pool (MaxPooling2D)   (None, 112, 112, 64)      0         \n",
            "_________________________________________________________________\n",
            "block2_conv1 (Conv2D)        (None, 112, 112, 128)     73856     \n",
            "_________________________________________________________________\n",
            "block2_conv2 (Conv2D)        (None, 112, 112, 128)     147584    \n",
            "_________________________________________________________________\n",
            "block2_pool (MaxPooling2D)   (None, 56, 56, 128)       0         \n",
            "_________________________________________________________________\n",
            "block3_conv1 (Conv2D)        (None, 56, 56, 256)       295168    \n",
            "_________________________________________________________________\n",
            "block3_conv2 (Conv2D)        (None, 56, 56, 256)       590080    \n",
            "_________________________________________________________________\n",
            "block3_conv3 (Conv2D)        (None, 56, 56, 256)       590080    \n",
            "_________________________________________________________________\n",
            "block3_pool (MaxPooling2D)   (None, 28, 28, 256)       0         \n",
            "_________________________________________________________________\n",
            "block4_conv1 (Conv2D)        (None, 28, 28, 512)       1180160   \n",
            "_________________________________________________________________\n",
            "block4_conv2 (Conv2D)        (None, 28, 28, 512)       2359808   \n",
            "_________________________________________________________________\n",
            "block4_conv3 (Conv2D)        (None, 28, 28, 512)       2359808   \n",
            "_________________________________________________________________\n",
            "block4_pool (MaxPooling2D)   (None, 14, 14, 512)       0         \n",
            "_________________________________________________________________\n",
            "block5_conv1 (Conv2D)        (None, 14, 14, 512)       2359808   \n",
            "_________________________________________________________________\n",
            "block5_conv2 (Conv2D)        (None, 14, 14, 512)       2359808   \n",
            "_________________________________________________________________\n",
            "block5_conv3 (Conv2D)        (None, 14, 14, 512)       2359808   \n",
            "_________________________________________________________________\n",
            "block5_pool (MaxPooling2D)   (None, 7, 7, 512)         0         \n",
            "_________________________________________________________________\n",
            "flatten (Flatten)            (None, 25088)             0         \n",
            "_________________________________________________________________\n",
            "dense (Dense)                (None, 23)                577047    \n",
            "=================================================================\n",
            "Total params: 15,291,735\n",
            "Trainable params: 577,047\n",
            "Non-trainable params: 14,714,688\n",
            "_________________________________________________________________\n"
          ],
          "name": "stdout"
        }
      ]
    },
    {
      "cell_type": "code",
      "metadata": {
        "id": "mIYBJ89NBcRn"
      },
      "source": [
        "model.compile(\r\n",
        "  loss='categorical_crossentropy',\r\n",
        "  optimizer='adam',\r\n",
        "  metrics=['accuracy']\r\n",
        ")\r\n",
        "\r\n",
        "checkpoint_filepath = '/tmp/checkpoint'\r\n",
        "model_checkpoint_callback = tf.keras.callbacks.ModelCheckpoint(\r\n",
        "    filepath=checkpoint_filepath,\r\n",
        "    save_weights_only=True,\r\n",
        "    monitor='val_accuracy',\r\n",
        "    mode='max',\r\n",
        "    save_best_only=True)"
      ],
      "execution_count": null,
      "outputs": []
    },
    {
      "cell_type": "code",
      "metadata": {
        "id": "59g7L1aMBhr2"
      },
      "source": [
        "from tensorflow.keras.preprocessing.image import ImageDataGenerator\r\n",
        "\r\n",
        "train_datagen = ImageDataGenerator(rescale = 1./255,\r\n",
        "                                   shear_range = 0.2,\r\n",
        "                                   zoom_range = 0.2,\r\n",
        "                                   horizontal_flip = True)\r\n",
        "\r\n",
        "test_datagen = ImageDataGenerator(rescale = 1./255)\r\n"
      ],
      "execution_count": null,
      "outputs": []
    },
    {
      "cell_type": "code",
      "metadata": {
        "colab": {
          "base_uri": "https://localhost:8080/"
        },
        "id": "jq1W5VgnBpO4",
        "outputId": "812d60eb-c866-4026-c704-e92182122e60"
      },
      "source": [
        "training_set = train_datagen.flow_from_directory(train_path,\r\n",
        "                                                 target_size = (224, 224),\r\n",
        "                                                 batch_size = 32,\r\n",
        "                                                 class_mode = 'categorical')"
      ],
      "execution_count": null,
      "outputs": [
        {
          "output_type": "stream",
          "text": [
            "Found 2200 images belonging to 23 classes.\n"
          ],
          "name": "stdout"
        }
      ]
    },
    {
      "cell_type": "code",
      "metadata": {
        "colab": {
          "base_uri": "https://localhost:8080/"
        },
        "id": "m6Uv5U8yBs7g",
        "outputId": "b5b05c4d-a1ee-4f18-e01f-7f3717eaeef3"
      },
      "source": [
        "test_set = test_datagen.flow_from_directory(valid_path,\r\n",
        "                                            target_size = (224, 224),\r\n",
        "                                            batch_size = 32,\r\n",
        "                                            class_mode = 'categorical')"
      ],
      "execution_count": null,
      "outputs": [
        {
          "output_type": "stream",
          "text": [
            "Found 2190 images belonging to 23 classes.\n"
          ],
          "name": "stdout"
        }
      ]
    },
    {
      "cell_type": "code",
      "metadata": {
        "id": "CFpLi3r0CgVs",
        "colab": {
          "base_uri": "https://localhost:8080/"
        },
        "outputId": "ce0c77ec-52ca-4f7e-ea45-5665177a9513"
      },
      "source": [
        "r = model.fit_generator(\r\n",
        "  training_set,\r\n",
        "  validation_data=test_set,\r\n",
        "  epochs=20,\r\n",
        "  steps_per_epoch=len(training_set),\r\n",
        "  validation_steps=len(test_set)\r\n",
        ")"
      ],
      "execution_count": null,
      "outputs": [
        {
          "output_type": "stream",
          "text": [
            "/usr/local/lib/python3.6/dist-packages/tensorflow/python/keras/engine/training.py:1844: UserWarning: `Model.fit_generator` is deprecated and will be removed in a future version. Please use `Model.fit`, which supports generators.\n",
            "  warnings.warn('`Model.fit_generator` is deprecated and '\n"
          ],
          "name": "stderr"
        },
        {
          "output_type": "stream",
          "text": [
            "Epoch 1/20\n",
            "69/69 [==============================] - 2469s 36s/step - loss: 2.0717 - accuracy: 0.5143 - val_loss: 0.3375 - val_accuracy: 0.9260\n",
            "Epoch 2/20\n",
            "69/69 [==============================] - 36s 517ms/step - loss: 0.1480 - accuracy: 0.9807 - val_loss: 0.3146 - val_accuracy: 0.9265\n",
            "Epoch 3/20\n",
            "69/69 [==============================] - 36s 521ms/step - loss: 0.1041 - accuracy: 0.9804 - val_loss: 0.2711 - val_accuracy: 0.9196\n",
            "Epoch 4/20\n",
            "69/69 [==============================] - 35s 506ms/step - loss: 0.0672 - accuracy: 0.9876 - val_loss: 0.2165 - val_accuracy: 0.9557\n",
            "Epoch 5/20\n",
            "69/69 [==============================] - 35s 503ms/step - loss: 0.0436 - accuracy: 0.9930 - val_loss: 0.2462 - val_accuracy: 0.9324\n",
            "Epoch 6/20\n",
            "69/69 [==============================] - 35s 501ms/step - loss: 0.0461 - accuracy: 0.9873 - val_loss: 0.2119 - val_accuracy: 0.9530\n",
            "Epoch 7/20\n",
            "69/69 [==============================] - 34s 500ms/step - loss: 0.0412 - accuracy: 0.9898 - val_loss: 0.2013 - val_accuracy: 0.9530\n",
            "Epoch 8/20\n",
            "69/69 [==============================] - 34s 498ms/step - loss: 0.0281 - accuracy: 0.9924 - val_loss: 0.2499 - val_accuracy: 0.9438\n",
            "Epoch 9/20\n",
            "69/69 [==============================] - 34s 498ms/step - loss: 0.0374 - accuracy: 0.9911 - val_loss: 0.2115 - val_accuracy: 0.9493\n",
            "Epoch 10/20\n",
            "69/69 [==============================] - 34s 497ms/step - loss: 0.0240 - accuracy: 0.9940 - val_loss: 0.1818 - val_accuracy: 0.9543\n",
            "Epoch 11/20\n",
            "69/69 [==============================] - 34s 493ms/step - loss: 0.0163 - accuracy: 0.9981 - val_loss: 0.2124 - val_accuracy: 0.9447\n",
            "Epoch 12/20\n",
            "69/69 [==============================] - 35s 503ms/step - loss: 0.0159 - accuracy: 0.9978 - val_loss: 0.2260 - val_accuracy: 0.9516\n",
            "Epoch 13/20\n",
            "69/69 [==============================] - 34s 498ms/step - loss: 0.0196 - accuracy: 0.9950 - val_loss: 0.2079 - val_accuracy: 0.9612\n",
            "Epoch 14/20\n",
            "69/69 [==============================] - 34s 497ms/step - loss: 0.0175 - accuracy: 0.9951 - val_loss: 0.2307 - val_accuracy: 0.9562\n",
            "Epoch 15/20\n",
            "69/69 [==============================] - 34s 492ms/step - loss: 0.0311 - accuracy: 0.9916 - val_loss: 0.1967 - val_accuracy: 0.9626\n",
            "Epoch 16/20\n",
            "69/69 [==============================] - 34s 495ms/step - loss: 0.0186 - accuracy: 0.9963 - val_loss: 0.1686 - val_accuracy: 0.9603\n",
            "Epoch 17/20\n",
            "69/69 [==============================] - 34s 490ms/step - loss: 0.0134 - accuracy: 0.9980 - val_loss: 0.2176 - val_accuracy: 0.9557\n",
            "Epoch 18/20\n",
            "69/69 [==============================] - 34s 487ms/step - loss: 0.0146 - accuracy: 0.9980 - val_loss: 0.1782 - val_accuracy: 0.9612\n",
            "Epoch 19/20\n",
            "69/69 [==============================] - 34s 489ms/step - loss: 0.0159 - accuracy: 0.9951 - val_loss: 0.2341 - val_accuracy: 0.9525\n",
            "Epoch 20/20\n",
            "69/69 [==============================] - 34s 487ms/step - loss: 0.0106 - accuracy: 0.9987 - val_loss: 0.1916 - val_accuracy: 0.9616\n"
          ],
          "name": "stdout"
        }
      ]
    },
    {
      "cell_type": "markdown",
      "metadata": {
        "id": "kRtpLURcB1aM"
      },
      "source": [
        "Textual History  yet to be Decided."
      ]
    },
    {
      "cell_type": "code",
      "metadata": {
        "id": "0WqZCnVsBxDE",
        "colab": {
          "base_uri": "https://localhost:8080/",
          "height": 530
        },
        "outputId": "bff36699-d8e0-41de-c9d2-51571fa75935"
      },
      "source": [
        "plt.plot(r.history['loss'], label='train loss')\r\n",
        "plt.plot(r.history['val_loss'], label='val loss')\r\n",
        "plt.legend()\r\n",
        "plt.show()\r\n",
        "plt.savefig('LossVal_loss')\r\n",
        "\r\n",
        "# plot the accuracy\r\n",
        "plt.plot(r.history['accuracy'], label='train acc')\r\n",
        "plt.plot(r.history['val_accuracy'], label='val acc')\r\n",
        "plt.legend()\r\n",
        "plt.show()\r\n",
        "plt.savefig('AccVal_acc')"
      ],
      "execution_count": null,
      "outputs": [
        {
          "output_type": "display_data",
          "data": {
            "image/png": "[encoded data removed]",
            "text/plain": [
              "<Figure size 432x288 with 1 Axes>"
            ]
          },
          "metadata": {
            "tags": [],
            "needs_background": "light"
          }
        },
        {
          "output_type": "display_data",
          "data": {
            "image/png": "[encoded data removed]",
            "text/plain": [
              "<Figure size 432x288 with 1 Axes>"
            ]
          },
          "metadata": {
            "tags": [],
            "needs_background": "light"
          }
        },
        {
          "output_type": "display_data",
          "data": {
            "text/plain": [
              "<Figure size 432x288 with 0 Axes>"
            ]
          },
          "metadata": {
            "tags": []
          }
        }
      ]
    },
    {
      "cell_type": "code",
      "metadata": {
        "id": "fmxBPWtACB6E"
      },
      "source": [
        "\r\n",
        "# save it as a h5 file\r\n",
        "\r\n",
        "from tensorflow.keras.models import load_model\r\n",
        "model.save('model_vgg16_techis_ImageClassification.h5')"
      ],
      "execution_count": null,
      "outputs": []
    },
    {
      "cell_type": "code",
      "metadata": {
        "id": "HBNYawI0CVtL",
        "colab": {
          "base_uri": "https://localhost:8080/",
          "height": 195
        },
        "outputId": "9362e12a-aece-4076-8d7b-9b8a262432d1"
      },
      "source": [
        "import numpy as np\r\n",
        "y_pred = np.argmax(y_pred, axis=1)\r\n",
        "y_pred"
      ],
      "execution_count": null,
      "outputs": [
        {
          "output_type": "error",
          "ename": "NameError",
          "evalue": "ignored",
          "traceback": [
            "\u001b[0;31m---------------------------------------------------------------------------\u001b[0m",
            "\u001b[0;31mNameError\u001b[0m                                 Traceback (most recent call last)",
            "\u001b[0;32m<ipython-input-18-ceed490457b5>\u001b[0m in \u001b[0;36m<module>\u001b[0;34m()\u001b[0m\n\u001b[1;32m      1\u001b[0m \u001b[0;32mimport\u001b[0m \u001b[0mnumpy\u001b[0m \u001b[0;32mas\u001b[0m \u001b[0mnp\u001b[0m\u001b[0;34m\u001b[0m\u001b[0;34m\u001b[0m\u001b[0m\n\u001b[0;32m----> 2\u001b[0;31m \u001b[0my_pred\u001b[0m \u001b[0;34m=\u001b[0m \u001b[0mnp\u001b[0m\u001b[0;34m.\u001b[0m\u001b[0margmax\u001b[0m\u001b[0;34m(\u001b[0m\u001b[0my_pred\u001b[0m\u001b[0;34m,\u001b[0m \u001b[0maxis\u001b[0m\u001b[0;34m=\u001b[0m\u001b[0;36m1\u001b[0m\u001b[0;34m)\u001b[0m\u001b[0;34m\u001b[0m\u001b[0;34m\u001b[0m\u001b[0m\n\u001b[0m\u001b[1;32m      3\u001b[0m \u001b[0my_pred\u001b[0m\u001b[0;34m\u001b[0m\u001b[0;34m\u001b[0m\u001b[0m\n",
            "\u001b[0;31mNameError\u001b[0m: name 'y_pred' is not defined"
          ]
        }
      ]
    }
  ]
}